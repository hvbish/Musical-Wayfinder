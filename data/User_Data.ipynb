{
 "cells": [
  {
   "cell_type": "code",
   "execution_count": 1,
   "metadata": {},
   "outputs": [],
   "source": [
    "import os\n",
    "import json\n",
    "import requests\n",
    "\n",
    "from tqdm import tqdm\n",
    "\n",
    "from utils import async_get, get, get_client_access_token\n",
    "from utils import get_song_genres, featurize_tracks, get_dates_added\n",
    "\n",
    "import spotipy\n",
    "from spotipy.oauth2 import SpotifyClientCredentials\n",
    "\n",
    "import numpy as np"
   ]
  },
  {
   "cell_type": "code",
   "execution_count": 2,
   "metadata": {},
   "outputs": [],
   "source": [
    "client_id = \"d71970014054446a9f65903c9fd8afdd\"\n",
    "client_secret = \"2be6c841192c4d4b9eda0e7faf2354c3\"\n",
    "\n",
    "access_token = get_client_access_token(client_id, client_secret)\n",
    "authorization_header = {\"Authorization\": \"Bearer {}\".format(access_token)}\n",
    "\n",
    "client_credentials_manager = SpotifyClientCredentials(client_id=client_id, client_secret=client_secret)\n",
    "sp = spotipy.Spotify(client_credentials_manager=client_credentials_manager)"
   ]
  },
  {
   "cell_type": "code",
   "execution_count": 3,
   "metadata": {},
   "outputs": [],
   "source": [
    "access_token = \"BQBnQ8SmRb-K1NyE3JmdcBsmLZDT7IO51m4g7u2-o1Ph8ktywtpz7I_q4YqYZF1HMArp9ESBAGc_GT3Hvz3dWjkKmzrfXAH3KL5DzcMb-u9UC5jqRfnDTGVD-zcRst8UpgAdliUp5X90YfDgIaaIfA3oq052gnEZGahSuN8qpU05f0LuRQ\"\n",
    "authorization_header = {\"Authorization\": \"Bearer {}\".format(access_token)}"
   ]
  },
  {
   "cell_type": "code",
   "execution_count": 4,
   "metadata": {},
   "outputs": [],
   "source": [
    "SPOTIFY_API_BASE_URL = \"https://api.spotify.com\"\n",
    "API_VERSION = \"v1\"\n",
    "SPOTIFY_API_URL = \"{}/{}\".format(SPOTIFY_API_BASE_URL, API_VERSION)\n",
    "\n",
    "user_profile_api_endpoint = \"{}/me\".format(SPOTIFY_API_URL)\n",
    "user_tracks_endpoint = \"{}/tracks\".format(user_profile_api_endpoint)"
   ]
  },
  {
   "cell_type": "code",
   "execution_count": 5,
   "metadata": {},
   "outputs": [],
   "source": [
    "# user_tracks = []\n",
    "# tracks = get(requests.Session(), user_tracks_endpoint, \"\", authorization_header, False)\n",
    "# user_tracks.append(tracks)\n",
    "# i = 0\n",
    "# while tracks['next']:\n",
    "#     print(i, end=\"\\r\")\n",
    "#     i += 1\n",
    "#     tracks = get(requests.Session(), tracks['next'], \"\", authorization_header, False)\n",
    "#     user_tracks.append(tracks)"
   ]
  },
  {
   "cell_type": "code",
   "execution_count": 6,
   "metadata": {},
   "outputs": [],
   "source": [
    "queries = []\n",
    "num_items = get(requests.Session(), user_tracks_endpoint, \"\", authorization_header, False)['total']\n",
    "limit = 50\n",
    "for i in range(int(num_items / limit) + 1):\n",
    "    queries.append(\"?offset={}&limit={}\".format(i * limit , limit))"
   ]
  },
  {
   "cell_type": "code",
   "execution_count": 7,
   "metadata": {
    "scrolled": true
   },
   "outputs": [
    {
     "name": "stdout",
     "output_type": "stream",
     "text": [
      "File                                   Completed at\n",
      "https://api.spotify.com/v1/me/tracks?offset=50&limit=50                0.82s\n",
      "https://api.spotify.com/v1/me/tracks?offset=200&limit=50                0.86s\n",
      "https://api.spotify.com/v1/me/tracks?offset=400&limit=50                0.88s\n",
      "https://api.spotify.com/v1/me/tracks?offset=450&limit=50                0.90s\n",
      "https://api.spotify.com/v1/me/tracks?offset=300&limit=50                0.92s\n",
      "https://api.spotify.com/v1/me/tracks?offset=150&limit=50                0.92s\n",
      "https://api.spotify.com/v1/me/tracks?offset=350&limit=50                0.94s\n",
      "https://api.spotify.com/v1/me/tracks?offset=100&limit=50                0.95s\n",
      "https://api.spotify.com/v1/me/tracks?offset=250&limit=50                0.96s\n",
      "https://api.spotify.com/v1/me/tracks?offset=500&limit=50                1.03s\n",
      "https://api.spotify.com/v1/me/tracks?offset=550&limit=50                1.11s\n",
      "https://api.spotify.com/v1/me/tracks?offset=600&limit=50                1.13s\n",
      "https://api.spotify.com/v1/me/tracks?offset=750&limit=50                1.17s\n",
      "https://api.spotify.com/v1/me/tracks?offset=700&limit=50                1.18s\n",
      "https://api.spotify.com/v1/me/tracks?offset=650&limit=50                1.21s\n",
      "https://api.spotify.com/v1/me/tracks?offset=850&limit=50                1.23s\n",
      "https://api.spotify.com/v1/me/tracks?offset=800&limit=50                1.27s\n",
      "https://api.spotify.com/v1/me/tracks?offset=900&limit=50                1.28s\n",
      "https://api.spotify.com/v1/me/tracks?offset=950&limit=50                1.32s\n",
      "https://api.spotify.com/v1/me/tracks?offset=1000&limit=50                1.34s\n",
      "https://api.spotify.com/v1/me/tracks?offset=1050&limit=50                1.39s\n",
      "https://api.spotify.com/v1/me/tracks?offset=1100&limit=50                1.44s\n",
      "https://api.spotify.com/v1/me/tracks?offset=1150&limit=50                1.46s\n",
      "https://api.spotify.com/v1/me/tracks?offset=1200&limit=50                1.47s\n",
      "https://api.spotify.com/v1/me/tracks?offset=1250&limit=50                1.54s\n",
      "https://api.spotify.com/v1/me/tracks?offset=1300&limit=50                1.56s\n",
      "https://api.spotify.com/v1/me/tracks?offset=1400&limit=50                1.60s\n",
      "https://api.spotify.com/v1/me/tracks?offset=1450&limit=50                1.63s\n",
      "https://api.spotify.com/v1/me/tracks?offset=1350&limit=50                1.65s\n",
      "https://api.spotify.com/v1/me/tracks?offset=1500&limit=50                1.75s\n",
      "https://api.spotify.com/v1/me/tracks?offset=1550&limit=50                1.76s\n",
      "https://api.spotify.com/v1/me/tracks?offset=1600&limit=50                1.80s\n",
      "https://api.spotify.com/v1/me/tracks?offset=1650&limit=50                1.81s\n",
      "https://api.spotify.com/v1/me/tracks?offset=1700&limit=50                1.87s\n",
      "https://api.spotify.com/v1/me/tracks?offset=1800&limit=50                1.89s\n",
      "https://api.spotify.com/v1/me/tracks?offset=1850&limit=50                1.90s\n",
      "https://api.spotify.com/v1/me/tracks?offset=1750&limit=50                1.91s\n",
      "https://api.spotify.com/v1/me/tracks?offset=1900&limit=50                1.96s\n",
      "https://api.spotify.com/v1/me/tracks?offset=2050&limit=50                2.05s\n",
      "https://api.spotify.com/v1/me/tracks?offset=1950&limit=50                2.07s\n",
      "https://api.spotify.com/v1/me/tracks?offset=2000&limit=50                2.12s\n",
      "https://api.spotify.com/v1/me/tracks?offset=2150&limit=50                2.13s\n",
      "https://api.spotify.com/v1/me/tracks?offset=2300&limit=50                2.16s\n",
      "https://api.spotify.com/v1/me/tracks?offset=2100&limit=50                2.17s\n",
      "https://api.spotify.com/v1/me/tracks?offset=2250&limit=50                2.18s\n",
      "https://api.spotify.com/v1/me/tracks?offset=2200&limit=50                2.29s\n",
      "https://api.spotify.com/v1/me/tracks?offset=2350&limit=50                2.33s\n",
      "https://api.spotify.com/v1/me/tracks?offset=2450&limit=50                2.39s\n",
      "https://api.spotify.com/v1/me/tracks?offset=2500&limit=50                2.41s\n",
      "https://api.spotify.com/v1/me/tracks?offset=2550&limit=50                2.42s\n",
      "https://api.spotify.com/v1/me/tracks?offset=2600&limit=50                2.47s\n",
      "https://api.spotify.com/v1/me/tracks?offset=2650&limit=50                2.48s\n",
      "https://api.spotify.com/v1/me/tracks?offset=2400&limit=50                2.49s\n",
      "https://api.spotify.com/v1/me/tracks?offset=2700&limit=50                2.51s\n",
      "https://api.spotify.com/v1/me/tracks?offset=2750&limit=50                2.58s\n",
      "https://api.spotify.com/v1/me/tracks?offset=2800&limit=50                2.66s\n",
      "https://api.spotify.com/v1/me/tracks?offset=2850&limit=50                2.75s\n",
      "https://api.spotify.com/v1/me/tracks?offset=2900&limit=50                2.77s\n",
      "https://api.spotify.com/v1/me/tracks?offset=2950&limit=50                2.78s\n",
      "https://api.spotify.com/v1/me/tracks?offset=3100&limit=50                2.81s\n",
      "https://api.spotify.com/v1/me/tracks?offset=3000&limit=50                2.83s\n",
      "https://api.spotify.com/v1/me/tracks?offset=3150&limit=50                2.84s\n",
      "https://api.spotify.com/v1/me/tracks?offset=3050&limit=50                2.85s\n",
      "https://api.spotify.com/v1/me/tracks?offset=3200&limit=50                2.94s\n",
      "https://api.spotify.com/v1/me/tracks?offset=3250&limit=50                3.02s\n",
      "https://api.spotify.com/v1/me/tracks?offset=3300&limit=50                3.09s\n",
      "https://api.spotify.com/v1/me/tracks?offset=3400&limit=50                3.11s\n",
      "https://api.spotify.com/v1/me/tracks?offset=3450&limit=50                3.12s\n",
      "https://api.spotify.com/v1/me/tracks?offset=3350&limit=50                3.13s\n",
      "https://api.spotify.com/v1/me/tracks?offset=3550&limit=50                3.15s\n",
      "https://api.spotify.com/v1/me/tracks?offset=3500&limit=50                3.15s\n",
      "https://api.spotify.com/v1/me/tracks?offset=3600&limit=50                3.20s\n",
      "https://api.spotify.com/v1/me/tracks?offset=3650&limit=50                3.29s\n",
      "https://api.spotify.com/v1/me/tracks?offset=3700&limit=50                3.36s\n",
      "https://api.spotify.com/v1/me/tracks?offset=0&limit=50                6.05s\n"
     ]
    }
   ],
   "source": [
    "results = await async_get(user_tracks_endpoint, queries, headers=authorization_header, verbose=True)"
   ]
  },
  {
   "cell_type": "code",
   "execution_count": 8,
   "metadata": {},
   "outputs": [],
   "source": [
    "user_tracks = sum([result['items'] for result in results], [])"
   ]
  },
  {
   "cell_type": "code",
   "execution_count": 9,
   "metadata": {},
   "outputs": [
    {
     "name": "stdout",
     "output_type": "stream",
     "text": [
      "{'grant_type': 'client_credentials'}\n",
      "https://accounts.spotify.com/api/token\n",
      "{'access_token': 'BQCiqQblAjZrH3CV28aJ6cAlLQshpKNsL2zO1WgBwBAU0_cOyv0_7Q-rCyULzJA_SKfEYLHXy3saFBtHAwo', 'token_type': 'Bearer', 'expires_in': 3600, 'scope': ''}\n",
      "100.0% done\r"
     ]
    }
   ],
   "source": [
    "track_names, track_uris, data = featurize_tracks(user_tracks, sp, verbose=True)"
   ]
  },
  {
   "cell_type": "code",
   "execution_count": 10,
   "metadata": {},
   "outputs": [
    {
     "name": "stdout",
     "output_type": "stream",
     "text": [
      "100.0% done\r"
     ]
    }
   ],
   "source": [
    "artist_names, artist_uris, genres = get_song_genres(user_tracks, sp, verbose=True)"
   ]
  },
  {
   "cell_type": "code",
   "execution_count": 11,
   "metadata": {},
   "outputs": [],
   "source": [
    "dates = get_dates_added(user_tracks)"
   ]
  },
  {
   "cell_type": "code",
   "execution_count": 12,
   "metadata": {},
   "outputs": [],
   "source": [
    "user_library_data = []\n",
    "\n",
    "num_tracks = len(user_tracks)\n",
    "for i in range(num_tracks):\n",
    "    track_name = track_names[i]\n",
    "    date_added = dates[i]\n",
    "    track_uri = track_uris[i]\n",
    "    track_features = data['features'][i]\n",
    "    track_genres = genres[i]\n",
    "    track_artists = artist_names[i]\n",
    "    user_library_data.append({ 'name' : track_name,\n",
    "                               'uri' : track_uri,\n",
    "                               'date' : date_added,\n",
    "                               'genres' : track_genres, \n",
    "                               'artists' : track_artists,\n",
    "                             })\n",
    "    for feature, feature_name in zip(track_features, data['feature_names']):\n",
    "        user_library_data[-1][feature_name] = feature"
   ]
  },
  {
   "cell_type": "code",
   "execution_count": 13,
   "metadata": {},
   "outputs": [
    {
     "data": {
      "text/plain": [
       "2564660"
      ]
     },
     "execution_count": 13,
     "metadata": {},
     "output_type": "execute_result"
    }
   ],
   "source": [
    "open(\"user_library/steven/data_user_library.json\", \"w\").write(json.dumps(user_library_data, indent=4))"
   ]
  }
 ],
 "metadata": {
  "kernelspec": {
   "display_name": "MyPython",
   "language": "python",
   "name": "mypy"
  },
  "language_info": {
   "codemirror_mode": {
    "name": "ipython",
    "version": 3
   },
   "file_extension": ".py",
   "mimetype": "text/x-python",
   "name": "python",
   "nbconvert_exporter": "python",
   "pygments_lexer": "ipython3",
   "version": "3.6.7"
  }
 },
 "nbformat": 4,
 "nbformat_minor": 2
}
