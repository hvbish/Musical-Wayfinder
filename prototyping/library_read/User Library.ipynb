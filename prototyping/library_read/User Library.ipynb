{
 "cells": [
  {
   "cell_type": "code",
   "execution_count": 1,
   "metadata": {},
   "outputs": [],
   "source": [
    "import asyncio\n",
    "import requests\n",
    "from concurrent.futures import ThreadPoolExecutor\n",
    "from timeit import default_timer\n",
    "import json\n",
    "import requests"
   ]
  },
  {
   "cell_type": "code",
   "execution_count": 2,
   "metadata": {},
   "outputs": [],
   "source": [
    "access_token = \"BQAJSl-kC8iA9AppLyMfw722iQP26BGEviwN0zPRokiglornvzylw8vgnif-E16mrGX7ZJdGq_5zZuQZUBY_nxIGHbFGnutkqM-ICoG4GlVlCygQO5cJ-aXMTPNUbogQdssDvKn5JC1HgV8OWSU4DB-JAqII0XhOf9ZBedlcJxvSYDlDLg\"\n",
    "authorization_header = {\"Authorization\": \"Bearer {}\".format(access_token)}"
   ]
  },
  {
   "cell_type": "code",
   "execution_count": 3,
   "metadata": {},
   "outputs": [],
   "source": [
    "SPOTIFY_API_BASE_URL = \"https://api.spotify.com\"\n",
    "API_VERSION = \"v1\"\n",
    "SPOTIFY_API_URL = \"{}/{}\".format(SPOTIFY_API_BASE_URL, API_VERSION)\n",
    "user_profile_api_endpoint = \"{}/me\".format(SPOTIFY_API_URL)\n",
    "\n",
    "user_tracks_endpoint = \"{}/tracks\".format(user_profile_api_endpoint)"
   ]
  },
  {
   "cell_type": "code",
   "execution_count": 4,
   "metadata": {},
   "outputs": [],
   "source": [
    "def fetch(session, query):\n",
    "    base_url = user_tracks_endpoint\n",
    "    url = base_url + query\n",
    "    authorization_header = {\"Authorization\": \"Bearer {}\".format(access_token)}\n",
    "    with session.get(url, headers=authorization_header) as response:\n",
    "        data = response.json()\n",
    "        if response.status_code != 200:\n",
    "            print(\"FAILURE::{0}\".format(url))\n",
    "            \n",
    "        elapsed = default_timer() - START_TIME\n",
    "        time_completed_at = \"{:5.2f}s\".format(elapsed)\n",
    "        print(\"{0:<30} {1:>20}\".format(query, time_completed_at))\n",
    "        \n",
    "        return data\n",
    "\n",
    "async def get_data_asynchronous(queries):   \n",
    "    print(\"{0:<30} {1:>20}\".format(\"File\", \"Completed at\"))\n",
    "\n",
    "    # Note: max_workers is set to 10 simply for this example,\n",
    "    # you'll have to tweak with this number for your own projects\n",
    "    # as you see fit\n",
    "    with ThreadPoolExecutor(max_workers=10) as executor:\n",
    "        with requests.Session() as session:\n",
    "            # Set any session parameters here before calling `fetch`\n",
    "\n",
    "            # Initialize the event loop        \n",
    "            loop = asyncio.get_event_loop()\n",
    "                            \n",
    "            # Set the START_TIME for the `fetch` function\n",
    "            START_TIME = default_timer()\n",
    "\n",
    "            # Use list comprehension to create a list of\n",
    "            # tasks to complete. The executor will run the `fetch`\n",
    "            # function for each csv in the csvs_to_fetch list\n",
    "            tasks = [\n",
    "                loop.run_in_executor(\n",
    "                    executor,\n",
    "                    fetch,\n",
    "                    *(session, query) # Allows us to pass in multiple arguments to `fetch`\n",
    "                )\n",
    "                for query in queries\n",
    "            ]\n",
    "            \n",
    "            # Initializes the tasks to run and awaits their results\n",
    "            responses = []\n",
    "            for response in await asyncio.gather(*tasks):\n",
    "                responses.append(response)\n",
    "            return responses\n"
   ]
  },
  {
   "cell_type": "code",
   "execution_count": 5,
   "metadata": {},
   "outputs": [],
   "source": [
    "def get_num_tracks():\n",
    "    response = requests.get(user_tracks_endpoint, headers=authorization_header)\n",
    "    if response.status_code != 200:\n",
    "        raise Exception(\"Got response: {}\".format(response.status_code))\n",
    "    return response.json()['total']"
   ]
  },
  {
   "cell_type": "code",
   "execution_count": 6,
   "metadata": {},
   "outputs": [],
   "source": [
    "queries = []\n",
    "num_items = get_num_tracks()\n",
    "limit = 50\n",
    "for i in range(int(num_items / 50) + 1):\n",
    "    queries.append(\"?offset={}&limit={}\".format(i * limit , limit))"
   ]
  },
  {
   "cell_type": "code",
   "execution_count": 7,
   "metadata": {},
   "outputs": [],
   "source": [
    "START_TIME = default_timer()\n",
    "\n",
    "loop = asyncio.get_event_loop()\n",
    "future = asyncio.ensure_future(get_data_asynchronous(queries))"
   ]
  },
  {
   "cell_type": "code",
   "execution_count": 8,
   "metadata": {},
   "outputs": [
    {
     "name": "stdout",
     "output_type": "stream",
     "text": [
      "File                                   Completed at\n",
      "?offset=200&limit=50                          0.25s\n",
      "?offset=150&limit=50                          0.26s\n",
      "?offset=50&limit=50                           0.27s\n",
      "?offset=450&limit=50                          0.29s\n",
      "?offset=100&limit=50                          0.30s\n",
      "?offset=350&limit=50                          0.31s\n",
      "?offset=0&limit=50                            0.32s\n",
      "?offset=500&limit=50                          0.42s\n",
      "?offset=550&limit=50                          0.44s\n",
      "?offset=650&limit=50                          0.45s\n",
      "?offset=600&limit=50                          0.47s\n",
      "?offset=800&limit=50                          0.48s\n",
      "?offset=750&limit=50                          0.50s\n",
      "?offset=700&limit=50                          0.50s\n",
      "?offset=850&limit=50                          0.58s\n",
      "?offset=900&limit=50                          0.60s\n",
      "?offset=950&limit=50                          0.62s\n",
      "?offset=1050&limit=50                         0.66s\n",
      "?offset=1100&limit=50                         0.67s\n",
      "?offset=1000&limit=50                         0.68s\n",
      "?offset=1150&limit=50                         0.69s\n",
      "?offset=1200&limit=50                         0.73s\n",
      "?offset=1250&limit=50                         0.77s\n",
      "?offset=1300&limit=50                         0.78s\n",
      "?offset=1400&limit=50                         0.83s\n",
      "?offset=1350&limit=50                         0.83s\n",
      "?offset=1500&limit=50                         0.85s\n",
      "?offset=1450&limit=50                         0.86s\n",
      "?offset=1550&limit=50                         0.90s\n",
      "?offset=1600&limit=50                         0.93s\n",
      "?offset=1650&limit=50                         0.94s\n",
      "?offset=1700&limit=50                         0.98s\n",
      "?offset=1750&limit=50                         1.03s\n",
      "?offset=1800&limit=50                         1.05s\n",
      "?offset=1850&limit=50                         1.06s\n",
      "?offset=1900&limit=50                         1.07s\n",
      "?offset=2000&limit=50                         1.10s\n",
      "?offset=1950&limit=50                         1.12s\n",
      "?offset=2050&limit=50                         1.13s\n",
      "?offset=2100&limit=50                         1.20s\n",
      "?offset=2150&limit=50                         1.21s\n",
      "?offset=2250&limit=50                         1.23s\n",
      "?offset=2200&limit=50                         1.24s\n",
      "?offset=2300&limit=50                         1.28s\n",
      "?offset=2400&limit=50                         1.32s\n",
      "?offset=2350&limit=50                         1.33s\n",
      "?offset=2450&limit=50                         1.37s\n",
      "?offset=2500&limit=50                         1.38s\n",
      "?offset=2600&limit=50                         1.47s\n",
      "?offset=2550&limit=50                         1.48s\n",
      "?offset=2700&limit=50                         1.50s\n",
      "?offset=2650&limit=50                         1.51s\n",
      "?offset=2750&limit=50                         1.51s\n",
      "?offset=2800&limit=50                         1.53s\n",
      "?offset=2850&limit=50                         1.57s\n",
      "?offset=2900&limit=50                         1.63s\n",
      "?offset=2950&limit=50                         1.64s\n",
      "?offset=3100&limit=50                         1.69s\n",
      "?offset=3000&limit=50                         1.70s\n",
      "?offset=3050&limit=50                         1.71s\n",
      "?offset=3150&limit=50                         1.72s\n",
      "?offset=3200&limit=50                         1.74s\n",
      "?offset=3250&limit=50                         1.79s\n",
      "?offset=3300&limit=50                         1.80s\n",
      "?offset=3350&limit=50                         1.84s\n",
      "?offset=3400&limit=50                         1.85s\n",
      "?offset=3450&limit=50                         1.86s\n",
      "?offset=3500&limit=50                         1.88s\n",
      "?offset=3550&limit=50                         1.89s\n",
      "?offset=3600&limit=50                         1.95s\n",
      "?offset=3650&limit=50                         1.96s\n",
      "?offset=3700&limit=50                         1.98s\n",
      "?offset=300&limit=50                          5.23s\n",
      "?offset=400&limit=50                          5.23s\n",
      "?offset=250&limit=50                          5.25s\n"
     ]
    }
   ],
   "source": [
    "results = await future\n",
    "user_tracks = sum([result['items'] for result in results], [])"
   ]
  },
  {
   "cell_type": "code",
   "execution_count": 9,
   "metadata": {},
   "outputs": [
    {
     "data": {
      "text/plain": [
       "3720"
      ]
     },
     "execution_count": 9,
     "metadata": {},
     "output_type": "execute_result"
    }
   ],
   "source": [
    "len(user_tracks)"
   ]
  }
 ],
 "metadata": {
  "kernelspec": {
   "display_name": "MyPython",
   "language": "python",
   "name": "mypy"
  },
  "language_info": {
   "codemirror_mode": {
    "name": "ipython",
    "version": 3
   },
   "file_extension": ".py",
   "mimetype": "text/x-python",
   "name": "python",
   "nbconvert_exporter": "python",
   "pygments_lexer": "ipython3",
   "version": "3.6.7"
  }
 },
 "nbformat": 4,
 "nbformat_minor": 2
}
