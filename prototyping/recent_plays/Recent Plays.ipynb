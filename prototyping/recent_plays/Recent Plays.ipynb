{
 "cells": [
  {
   "cell_type": "code",
   "execution_count": 1,
   "metadata": {},
   "outputs": [],
   "source": [
    "import os\n",
    "import json\n",
    "import requests"
   ]
  },
  {
   "cell_type": "code",
   "execution_count": 2,
   "metadata": {},
   "outputs": [],
   "source": [
    "access_token = \"BQAJSl-kC8iA9AppLyMfw722iQP26BGEviwN0zPRokiglornvzylw8vgnif-E16mrGX7ZJdGq_5zZuQZUBY_nxIGHbFGnutkqM-ICoG4GlVlCygQO5cJ-aXMTPNUbogQdssDvKn5JC1HgV8OWSU4DB-JAqII0XhOf9ZBedlcJxvSYDlDLg\"\n",
    "authorization_header = {\"Authorization\": \"Bearer {}\".format(access_token)}"
   ]
  },
  {
   "cell_type": "code",
   "execution_count": 3,
   "metadata": {},
   "outputs": [],
   "source": [
    "SPOTIFY_API_BASE_URL = \"https://api.spotify.com\"\n",
    "API_VERSION = \"v1\"\n",
    "SPOTIFY_API_URL = \"{}/{}\".format(SPOTIFY_API_BASE_URL, API_VERSION)\n",
    "user_profile_api_endpoint = \"{}/me\".format(SPOTIFY_API_URL)\n",
    "\n",
    "recently_played_endpoint = \"{}/player/recently-played\".format(user_profile_api_endpoint)\n",
    "top_tracks_endpoint = \"{}/top/tracks\".format(user_profile_api_endpoint)\n",
    "top_artists_endpoint = \"{}/top/artists\".format(user_profile_api_endpoint)"
   ]
  },
  {
   "cell_type": "markdown",
   "metadata": {},
   "source": [
    "# 50 Recently Played"
   ]
  },
  {
   "cell_type": "code",
   "execution_count": 4,
   "metadata": {},
   "outputs": [
    {
     "name": "stdout",
     "output_type": "stream",
     "text": [
      "Recently Played Artists:\n"
     ]
    },
    {
     "data": {
      "text/plain": [
       "[('Thank U Malcolm', ['Flying Lotus']),\n",
       " ('Land Of Honey', ['Flying Lotus', 'Solange']),\n",
       " ('FF4', ['Flying Lotus']),\n",
       " ('9 Carrots', ['Flying Lotus', 'Toro y Moi']),\n",
       " ('Pygmy', ['Flying Lotus']),\n",
       " ('The Climb', ['Flying Lotus', 'Thundercat']),\n",
       " ('Find Your Own Way Home', ['Flying Lotus']),\n",
       " ('Debbie Is Depressed', ['Flying Lotus']),\n",
       " ('Say Something', ['Flying Lotus']),\n",
       " ('Remind U', ['Flying Lotus']),\n",
       " ('Andromeda', ['Flying Lotus']),\n",
       " ('Actually Virtual', ['Flying Lotus', 'Shabazz Palaces']),\n",
       " ('Inside Your Home', ['Flying Lotus']),\n",
       " ('Fire Is Coming', ['Flying Lotus', 'David Lynch']),\n",
       " ('Inside Your Home', ['Flying Lotus']),\n",
       " ('Fire Is Coming', ['Flying Lotus', 'David Lynch']),\n",
       " ('Inside Your Home', ['Flying Lotus']),\n",
       " ('Fire Is Coming', ['Flying Lotus', 'David Lynch']),\n",
       " ('Theme', ['Flying Lotus']),\n",
       " ('Hot Oct.', ['Flying Lotus']),\n",
       " ('Thank U Malcolm', ['Flying Lotus']),\n",
       " ('Land Of Honey', ['Flying Lotus', 'Solange']),\n",
       " ('FF4', ['Flying Lotus']),\n",
       " ('9 Carrots', ['Flying Lotus', 'Toro y Moi']),\n",
       " ('Pygmy', ['Flying Lotus']),\n",
       " ('The Climb', ['Flying Lotus', 'Thundercat']),\n",
       " ('Find Your Own Way Home', ['Flying Lotus']),\n",
       " ('Debbie Is Depressed', ['Flying Lotus']),\n",
       " ('Say Something', ['Flying Lotus']),\n",
       " ('Remind U', ['Flying Lotus']),\n",
       " ('Andromeda', ['Flying Lotus']),\n",
       " ('Actually Virtual', ['Flying Lotus', 'Shabazz Palaces']),\n",
       " ('Inside Your Home', ['Flying Lotus']),\n",
       " ('Fire Is Coming', ['Flying Lotus', 'David Lynch']),\n",
       " ('Black Balloons Reprise', ['Flying Lotus', 'Denzel Curry']),\n",
       " ('Yellow Belly', ['Flying Lotus', 'Tierra Whack']),\n",
       " ('All Spies', ['Flying Lotus']),\n",
       " ('Pilgrim Side Eye', ['Flying Lotus']),\n",
       " ('Takashi', ['Flying Lotus']),\n",
       " ('Spontaneous', ['Flying Lotus', 'Little Dragon']),\n",
       " ('Burning Down The House', ['Flying Lotus', 'George Clinton']),\n",
       " ('Capillaries', ['Flying Lotus']),\n",
       " ('More', ['Flying Lotus', 'Anderson .Paak']),\n",
       " ('Heroes In A Half Shell', ['Flying Lotus']),\n",
       " ('Post Requisite', ['Flying Lotus']),\n",
       " ('Heroes', ['Flying Lotus']),\n",
       " ('Cryo', ['Oneohtrix Point Never']),\n",
       " ('In Gaol', ['Milo', 'KOOL A.D.']),\n",
       " ('Child', ['Arca']),\n",
       " ('Purple Hi-Chew', ['D Tiberio'])]"
      ]
     },
     "execution_count": 4,
     "metadata": {},
     "output_type": "execute_result"
    }
   ],
   "source": [
    "limit = 50\n",
    "response = requests.get(recently_played_endpoint + \"?limit={}\".format(limit), headers=authorization_header)\n",
    "recently_played = response.json()\n",
    "print(\"Recently Played Artists:\")\n",
    "[(item['track']['name'], [artist['name'] for artist in item['track']['artists']]) for item in recently_played['items']]"
   ]
  },
  {
   "cell_type": "markdown",
   "metadata": {},
   "source": [
    "# 50Top Tracks"
   ]
  },
  {
   "cell_type": "code",
   "execution_count": 5,
   "metadata": {},
   "outputs": [
    {
     "name": "stdout",
     "output_type": "stream",
     "text": [
      "Short Term Top:\n"
     ]
    },
    {
     "data": {
      "text/plain": [
       "[('Faygo', ['Juicethegod']),\n",
       " ('Loud Places', ['Jamie xx', 'Romy']),\n",
       " ('Drip', ['Lukid']),\n",
       " ('International Man of Melancholy', ['Jerry Paper']),\n",
       " ('Kodak', ['Alphabets Heaven']),\n",
       " ('Eat You Up', ['BoA']),\n",
       " ('Topless', ['TOPS']),\n",
       " ('Mythological Beauty', ['Big Thief']),\n",
       " ('No Fools', ['Alphabets Heaven']),\n",
       " ('Acting', ['Ariel Pink', 'Dâm-Funk']),\n",
       " ('Lamborghini (Petrol 1982) - Mixed', ['Severed Heads']),\n",
       " ('Shimmer', ['Sinjin Hawke']),\n",
       " ('Quartz', ['Lapalux']),\n",
       " ('That Night', ['Blackalicious', 'Vursatyl and Jumbo']),\n",
       " ('12-bit', ['Fanu']),\n",
       " ('REAL TRUTH (feat. Tkay Maidza)',\n",
       "  ['J-E-T-S', 'Machinedrum', 'Jimmy Edgar', 'Tkay Maidza']),\n",
       " ('Have You Been To Salford Shopping Centre, Have You Seen Argos?',\n",
       "  ['Machine Woman']),\n",
       " ('Fear O The Light', ['Katie Dey']),\n",
       " ('Always Crashing', ['Acre']),\n",
       " ('Au Revoir (with Milo)', ['Botany', 'Milo']),\n",
       " ('Even If - Original Mix', ['Calibre']),\n",
       " ('One More Day', ['New Edition']),\n",
       " ('Faking It', ['Jerry Paper']),\n",
       " ('Beautiful', ['A. G. Cook']),\n",
       " ('Shine a Light', ['Shabazz Palaces', 'Thaddillac']),\n",
       " ('Moon Unit - Original Mix', ['Urulu']),\n",
       " ('Everything is Shitty', ['Jerry Paper']),\n",
       " ('Oh Devil', ['Electric Guest']),\n",
       " ('Shades Of Me & You - Original Mix', ['Seba']),\n",
       " ('Could Heaven Ever Be Like This', ['Idris Muhammad']),\n",
       " ('Real Love', ['Wolf + Lamb', 'PillowTalk']),\n",
       " ('Xe2', ['Mssingno']),\n",
       " ('Angel', ['Madonna']),\n",
       " (\"Julie's Theme\", ['Soundstream']),\n",
       " ('Brandon', ['Caribou']),\n",
       " ('Hare Jaya Jaya Rama II', ['Laraaji']),\n",
       " ('Nausicaä of the Valley of the Winds - Nausicaä Symphonic Poem: First Movement',\n",
       "  ['Joe Hisaishi']),\n",
       " ('Bad Boys', ['Connan Mockasin', 'Andrew VanWyngarden']),\n",
       " ('Friendless - Sega Bodega Piano Version', ['Oklou', 'Sega Bodega']),\n",
       " ('Caramel', ['Connan Mockasin']),\n",
       " (\"We Don't Need It\", [\"Lil' Kim\"]),\n",
       " (\"I Know There's Gonna Be (Good Times)\",\n",
       "  ['Jamie xx', 'Young Thug', 'Popcaan']),\n",
       " ('Tote Bag', ['Alphabets Heaven']),\n",
       " ('More', ['Flying Lotus', 'Anderson .Paak']),\n",
       " ('Sleepygirl 2', ['Yagya']),\n",
       " ('Good People', ['Jerry Paper']),\n",
       " ('Godzilla', ['Vels Trio']),\n",
       " ('All', ['Katie Dey']),\n",
       " ('C', ['toe']),\n",
       " ('Cool 2', ['Hoops'])]"
      ]
     },
     "execution_count": 5,
     "metadata": {},
     "output_type": "execute_result"
    }
   ],
   "source": [
    "time_range = \"short_term\"\n",
    "limit = 50\n",
    "response = requests.get(top_tracks_endpoint + \"?time_range={}&limit={}\".format(time_range, limit), \n",
    "                        headers=authorization_header)\n",
    "top_tracks = response.json()\n",
    "print(\"Short Term Top:\")\n",
    "[(track['name'], [artist['name'] for artist in track['artists']]) for track in top_tracks['items']]"
   ]
  },
  {
   "cell_type": "code",
   "execution_count": 6,
   "metadata": {},
   "outputs": [
    {
     "name": "stdout",
     "output_type": "stream",
     "text": [
      "Medium Term Top Tracks:\n"
     ]
    },
    {
     "data": {
      "text/plain": [
       "[('Caramel', ['Connan Mockasin']),\n",
       " ('underground', ['harunemuri']),\n",
       " ('Autowave', ['Kelly Moran']),\n",
       " ('I Never Dream', ['Against All Logic']),\n",
       " ('This Must Be the Place (Naive Melody) - 2005 Remaster', ['Talking Heads']),\n",
       " ('Always Crashing', ['Acre']),\n",
       " ('Four-Day Interval', ['Tortoise']),\n",
       " ('Fathom Five', ['Jayda G']),\n",
       " ('raingurl', ['Yaeji']),\n",
       " ('Acting', ['Ariel Pink', 'Dâm-Funk']),\n",
       " ('Espina', ['Sisah']),\n",
       " ('Feels Like Heaven', ['Ariel Pink']),\n",
       " ('Homesick', ['DJ Koze', 'Ada']),\n",
       " ('Over', ['DJ Paypal']),\n",
       " ('Professor 3', ['Professor Rhythm']),\n",
       " ('In Sarah, Mencken, Christ, and Beethoven There Were Women and Men',\n",
       "  ['Tortoise']),\n",
       " ('Cerroverb', ['Skee Mask']),\n",
       " ('LMK', ['Kelela']),\n",
       " ('Helix', ['Kelly Moran']),\n",
       " ('With U - Saint Wave Remix', ['Sisah', 'Saint Wave']),\n",
       " ('Gladly', ['Tirzah']),\n",
       " ('Loud Places', ['Jamie xx', 'Romy']),\n",
       " ('Mystery of Love (From the Original Motion Picture “Call Me by Your Name”)',\n",
       "  ['Sufjan Stevens']),\n",
       " ('Guppy', ['Psymun']),\n",
       " ('U KNOW ME', ['COBRAH']),\n",
       " ('Muntanyes De Granit', ['Pep Llopis']),\n",
       " ('me Yesterday//Corded', ['Flying Lotus']),\n",
       " ('Faith in Strangers', ['Andy Stott']),\n",
       " ('Faygo', ['Juicethegod']),\n",
       " ('Real Love', ['Wolf + Lamb', 'PillowTalk']),\n",
       " ('Heat 1', ['Shinichi Atobe']),\n",
       " ('Starworshipper', ['Futurecop!', 'Diana Gen & Starrset']),\n",
       " ('Fear O The Light', ['Katie Dey']),\n",
       " ('Ditch', ['Gus Dapperton']),\n",
       " ('Amadelle With Love', ['Gus Dapperton']),\n",
       " ('Enough', ['Kelela']),\n",
       " ('Ted (Bibio Remix)', ['Clark', 'Bibio']),\n",
       " ('Das Wort', ['DJ Koze', 'Dirk von Lowtzow']),\n",
       " ('Night Rise - Mixed', ['System Olympia']),\n",
       " ('Stonemilker', ['Björk']),\n",
       " ('Friendless - Sega Bodega Piano Version', ['Oklou', 'Sega Bodega']),\n",
       " ('Magnolia', ['Playboi Carti']),\n",
       " (\"Julie's Theme\", ['Soundstream']),\n",
       " ('Drone Me Up, Flashy', ['DJ Koze', 'Sophia Kennedy']),\n",
       " ('Love Czars', ['Sa-ra Creative Partners']),\n",
       " ('Nices Wölkchen', ['DJ Koze', 'Apparat']),\n",
       " ('Steppin W Friends', ['Will DiMaggio']),\n",
       " (\"We Don't Need It\", [\"Lil' Kim\"]),\n",
       " ('Nasty', ['Shygirl']),\n",
       " ('Damnation', ['Baths'])]"
      ]
     },
     "execution_count": 6,
     "metadata": {},
     "output_type": "execute_result"
    }
   ],
   "source": [
    "time_range = \"medium_term\"\n",
    "limit = 50\n",
    "response = requests.get(top_tracks_endpoint + \"?time_range={}&limit={}\".format(time_range, limit), \n",
    "                        headers=authorization_header)\n",
    "top_tracks = response.json()\n",
    "print(\"Medium Term Top Tracks:\")\n",
    "[(track['name'], [artist['name'] for artist in track['artists']]) for track in top_tracks['items']]"
   ]
  },
  {
   "cell_type": "code",
   "execution_count": 7,
   "metadata": {},
   "outputs": [
    {
     "name": "stdout",
     "output_type": "stream",
     "text": [
      "Long Term Top Tracks:\n"
     ]
    },
    {
     "data": {
      "text/plain": [
       "[('Haute Couture', ['MISOGI']),\n",
       " ('XO TOUR Llif3', ['Lil Uzi Vert']),\n",
       " ('Death Bliss', ['Rustie']),\n",
       " ('Key Amour', ['Basile', 'TD_Nasty']),\n",
       " ('Mametchi / Usohachi (feat. Mr. Yote)', ['Iglooghost', 'Mr. Yote']),\n",
       " ('Open Eye Signal', ['Jon Hopkins']),\n",
       " ('Beyond My Eyes', ['Bibio']),\n",
       " ('Professor 3', ['Professor Rhythm']),\n",
       " ('With U - Saint Wave Remix', ['Sisah', 'Saint Wave']),\n",
       " ('Crêpes crapuleuses', ['Everydayz']),\n",
       " ('He Hate Me (feat. Gorgeous Children)', ['Rustie', 'Gorgeous Children']),\n",
       " ('Desafío', ['Arca']),\n",
       " ('Why (feat. Nate Salman)', ['Les Sins', 'Nate Salman']),\n",
       " ('Those Days', ['KAASI']),\n",
       " ('Arisen My Senses', ['Björk', 'Arca']),\n",
       " ('Jelly', ['Laurel Halo']),\n",
       " ('Caramel', ['Connan Mockasin']),\n",
       " ('Bug', ['(Sandy) Alex G']),\n",
       " ('Crisis', ['Jam City']),\n",
       " ('Coraje', ['Arca']),\n",
       " ('Xtal', ['Aphex Twin']),\n",
       " ('underground', ['harunemuri']),\n",
       " ('This Is My Rock', ['DJ Koze', 'Sophia Kennedy']),\n",
       " ('Standing In The Middle Of The Field', ['Cut Copy']),\n",
       " ('Infatuation', ['SOPHIE']),\n",
       " ('Inakunaru', ['Kidkanevil', 'Phasma']),\n",
       " ('Dawn', ['Basenji']),\n",
       " ('Autowave', ['Kelly Moran']),\n",
       " ('Health', ['Bullion']),\n",
       " ('Through The Motions - Shimsung Edit', ['Darkstar']),\n",
       " ('I Never Dream', ['Against All Logic']),\n",
       " ('Spirals', ['Vindata']),\n",
       " ('Glorious Warrior', ['Electric Guest']),\n",
       " ('Drone Me Up, Flashy', ['DJ Koze', 'Sophia Kennedy']),\n",
       " ('Amadelle With Love', ['Gus Dapperton']),\n",
       " ('Pain In The Ass - Original Mix', ['Nina Kraviz']),\n",
       " ('Reverie', ['Arca']),\n",
       " ('Stonemilker', ['Björk']),\n",
       " (\"How Can You Tell When It's Done?\", ['Baauer', 'C.Z.']),\n",
       " ('Colors of Autumn', ['DJ Koze', 'Speech']),\n",
       " ('This Must Be the Place (Naive Melody) - 2005 Remaster', ['Talking Heads']),\n",
       " ('Move / Close', ['Baba Stiltz']),\n",
       " ('LAGEOS', ['Actress', 'London Contemporary Orchestra']),\n",
       " ('40000km', ['Outputmessage']),\n",
       " ('Kaputt', ['Destroyer']),\n",
       " ('Steppin W Friends', ['Will DiMaggio']),\n",
       " ('Do U Ever Happen', ['Laurel Halo']),\n",
       " ('Wicked City', ['Bobby Raps', 'SinGrinch']),\n",
       " ('Yeah Right', ['Vince Staples']),\n",
       " ('Comos Los Cerdos', ['Djrum'])]"
      ]
     },
     "execution_count": 7,
     "metadata": {},
     "output_type": "execute_result"
    }
   ],
   "source": [
    "time_range = \"long_term\"\n",
    "limit = 50\n",
    "response = requests.get(top_tracks_endpoint + \"?time_range={}&limit={}\".format(time_range, limit), \n",
    "                        headers=authorization_header)\n",
    "top_tracks = response.json()\n",
    "print(\"Long Term Top Tracks:\")\n",
    "[(track['name'], [artist['name'] for artist in track['artists']]) for track in top_tracks['items']]"
   ]
  },
  {
   "cell_type": "markdown",
   "metadata": {},
   "source": [
    "# 50 Top Artists"
   ]
  },
  {
   "cell_type": "code",
   "execution_count": 8,
   "metadata": {},
   "outputs": [
    {
     "name": "stdout",
     "output_type": "stream",
     "text": [
      "Short Term Top Artists:\n"
     ]
    },
    {
     "data": {
      "text/plain": [
       "['Katie Dey',\n",
       " 'Lapalux',\n",
       " 'Jerry Paper',\n",
       " 'Shabazz Palaces',\n",
       " 'Jam City',\n",
       " 'Alphabets Heaven',\n",
       " 'Arca',\n",
       " 'DJ Koze',\n",
       " 'Lukid',\n",
       " 'Nosaj Thing',\n",
       " 'Hop Along',\n",
       " 'Baths',\n",
       " 'Lorn',\n",
       " 'Wild Nothing',\n",
       " 'Milo',\n",
       " 'Ross from Friends',\n",
       " 'Flying Lotus',\n",
       " 'Bonnie Tyler',\n",
       " 'toe',\n",
       " 'Severed Heads',\n",
       " 'Björk',\n",
       " 'Juicethegod',\n",
       " 'Baauer',\n",
       " 'Kanye West',\n",
       " 'Tirzah',\n",
       " 'Laurel Halo',\n",
       " 'Destroyer',\n",
       " 'Actress',\n",
       " 'SOPHIE',\n",
       " 'Helado Negro',\n",
       " '(Sandy) Alex G',\n",
       " 'Hudson Mohawke',\n",
       " 'Antwon',\n",
       " 'Kornél Kovács',\n",
       " 'Kelela',\n",
       " 'Heathered Pearls',\n",
       " 'Nina Kraviz',\n",
       " 'Tim Hecker',\n",
       " 'Boards of Canada',\n",
       " 'Tortoise',\n",
       " 'Caribou',\n",
       " 'weird inside',\n",
       " 'Sisah',\n",
       " 'Clark',\n",
       " 'Houdinne',\n",
       " 'Majical Cloudz',\n",
       " 'Gold Panda',\n",
       " 'Machinedrum',\n",
       " 'Siriusmo',\n",
       " 'Shinichi Atobe']"
      ]
     },
     "execution_count": 8,
     "metadata": {},
     "output_type": "execute_result"
    }
   ],
   "source": [
    "time_range = \"short_term\"\n",
    "limit = 50\n",
    "response = requests.get(top_artists_endpoint + \"?time_range={}&limit={}\".format(time_range, limit), \n",
    "                        headers=authorization_header)\n",
    "top_artists = response.json()\n",
    "print(\"Short Term Top Artists:\")\n",
    "[artist['name'] for artist in top_artists['items']]"
   ]
  },
  {
   "cell_type": "code",
   "execution_count": 9,
   "metadata": {},
   "outputs": [
    {
     "name": "stdout",
     "output_type": "stream",
     "text": [
      "Long Term Top Artists:\n"
     ]
    },
    {
     "data": {
      "text/plain": [
       "['Arca',\n",
       " 'DJ Koze',\n",
       " 'Baths',\n",
       " 'Flying Lotus',\n",
       " 'Lapalux',\n",
       " 'Wild Nothing',\n",
       " 'Björk',\n",
       " 'Skee Mask',\n",
       " 'Tim Hecker',\n",
       " 'Kelela',\n",
       " 'Hop Along',\n",
       " 'Jam City',\n",
       " 'Alphabets Heaven',\n",
       " 'Tirzah',\n",
       " 'Tortoise',\n",
       " 'Kai Whiston',\n",
       " 'Katie Dey',\n",
       " 'Ross from Friends',\n",
       " 'Gus Dapperton',\n",
       " 'Laurel Halo',\n",
       " 'Kelly Moran',\n",
       " 'Nosaj Thing',\n",
       " 'Against All Logic',\n",
       " 'Empire of the Sun',\n",
       " 'SOPHIE',\n",
       " 'toe',\n",
       " 'Lukid',\n",
       " 'Ariel Pink',\n",
       " 'Hudson Mohawke',\n",
       " 'FKA twigs',\n",
       " 'Shabazz Palaces',\n",
       " 'Neutral Milk Hotel',\n",
       " 'Jerry Paper',\n",
       " 'Antwon',\n",
       " 'Sisah',\n",
       " 'Blue Lab Beats',\n",
       " 'Connan Mockasin',\n",
       " 'Teen Daze',\n",
       " 'Milo',\n",
       " 'Andy Stott',\n",
       " 'Caribou',\n",
       " 'tricot',\n",
       " 'Oneohtrix Point Never',\n",
       " 'Crystal Castles',\n",
       " 'Iglooghost',\n",
       " 'Siriusmo',\n",
       " 'Shinichi Atobe',\n",
       " 'Kanye West',\n",
       " 'Destroyer',\n",
       " 'Bibio']"
      ]
     },
     "execution_count": 9,
     "metadata": {},
     "output_type": "execute_result"
    }
   ],
   "source": [
    "time_range = \"medium_term\"\n",
    "limit = 50\n",
    "response = requests.get(top_artists_endpoint + \"?time_range={}&limit={}\".format(time_range, limit), \n",
    "                        headers=authorization_header)\n",
    "top_artists = response.json()\n",
    "print(\"Long Term Top Artists:\")\n",
    "[artist['name'] for artist in top_artists['items']]"
   ]
  },
  {
   "cell_type": "code",
   "execution_count": 10,
   "metadata": {},
   "outputs": [
    {
     "name": "stdout",
     "output_type": "stream",
     "text": [
      "Long Term Top Artists:\n"
     ]
    },
    {
     "data": {
      "text/plain": [
       "['Arca',\n",
       " 'Björk',\n",
       " 'DJ Koze',\n",
       " 'Lapalux',\n",
       " 'Jam City',\n",
       " 'Nosaj Thing',\n",
       " 'Flying Lotus',\n",
       " 'Laurel Halo',\n",
       " 'Rustie',\n",
       " 'Milo',\n",
       " 'Tim Hecker',\n",
       " 'toe',\n",
       " 'Baths',\n",
       " 'Iglooghost',\n",
       " 'Oneohtrix Point Never',\n",
       " 'Hop Along',\n",
       " 'Baauer',\n",
       " 'Wild Nothing',\n",
       " 'Ross from Friends',\n",
       " 'Nina Kraviz',\n",
       " 'Antwon',\n",
       " 'Tirzah',\n",
       " 'Hudson Mohawke',\n",
       " 'Outputmessage',\n",
       " 'Lukid',\n",
       " 'Lorn',\n",
       " 'Bullion',\n",
       " 'Heathered Pearls',\n",
       " 'SOPHIE',\n",
       " 'Machinedrum',\n",
       " 'Flume',\n",
       " 'Gus Dapperton',\n",
       " 'Kanye West',\n",
       " 'D Tiberio',\n",
       " 'Empire of the Sun',\n",
       " 'Sisah',\n",
       " 'Darkstar',\n",
       " 'Siriusmo',\n",
       " 'Vince Staples',\n",
       " 'Jamie xx',\n",
       " 'Mura Masa',\n",
       " 'Houdinne',\n",
       " 'MISOGI',\n",
       " 'Clark',\n",
       " 'Death Grips',\n",
       " 'Nicolas Jaar',\n",
       " 'Shlohmo',\n",
       " 'Shinichi Atobe',\n",
       " 'Blank Banshee',\n",
       " 'Four Tet']"
      ]
     },
     "execution_count": 10,
     "metadata": {},
     "output_type": "execute_result"
    }
   ],
   "source": [
    "time_range = \"long_term\"\n",
    "limit = 50\n",
    "response = requests.get(top_artists_endpoint + \"?time_range={}&limit={}\".format(time_range, limit), \n",
    "                        headers=authorization_header)\n",
    "top_artists = response.json()\n",
    "print(\"Long Term Top Artists:\")\n",
    "[artist['name'] for artist in top_artists['items']]"
   ]
  }
 ],
 "metadata": {
  "kernelspec": {
   "display_name": "MyPython",
   "language": "python",
   "name": "mypy"
  },
  "language_info": {
   "codemirror_mode": {
    "name": "ipython",
    "version": 3
   },
   "file_extension": ".py",
   "mimetype": "text/x-python",
   "name": "python",
   "nbconvert_exporter": "python",
   "pygments_lexer": "ipython3",
   "version": "3.6.7"
  }
 },
 "nbformat": 4,
 "nbformat_minor": 2
}
