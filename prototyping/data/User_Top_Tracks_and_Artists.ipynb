{
 "cells": [
  {
   "cell_type": "code",
   "execution_count": 1,
   "metadata": {},
   "outputs": [],
   "source": [
    "import os\n",
    "import json\n",
    "import requests\n",
    "\n",
    "from tqdm import tqdm\n",
    "\n",
    "from utils import async_get, get, get_client_access_token\n",
    "from utils import get_song_genres, featurize_tracks, get_dates_added\n",
    "\n",
    "import spotipy\n",
    "from spotipy.oauth2 import SpotifyClientCredentials\n",
    "\n",
    "import numpy as np"
   ]
  },
  {
   "cell_type": "code",
   "execution_count": 2,
   "metadata": {},
   "outputs": [],
   "source": [
    "client_id = \"d71970014054446a9f65903c9fd8afdd\"\n",
    "client_secret = \"2be6c841192c4d4b9eda0e7faf2354c3\"\n",
    "\n",
    "access_token = get_client_access_token(client_id, client_secret)\n",
    "authorization_header = {\"Authorization\": \"Bearer {}\".format(access_token)}\n",
    "\n",
    "client_credentials_manager = SpotifyClientCredentials(client_id=client_id, client_secret=client_secret)\n",
    "sp = spotipy.Spotify(client_credentials_manager=client_credentials_manager)"
   ]
  },
  {
   "cell_type": "code",
   "execution_count": 3,
   "metadata": {},
   "outputs": [],
   "source": [
    "access_token = \"BQA6GETg5sQhn1RyVIBl7i9rVDzMeo-Y7fgxvC2rE5b9Pyk8oqjo5vtnR5DvuU9uMKdOelMoSQY7CciVRR_QwF3_WwFsXjaiO-5FR7HlJFWkSFtyLAS9YDdjAUr2HHzxTfiD0OyePBqC_c-Ms9jlaTo6-VmRledO_jqbfUEdBSsSU8M-KQ\"\n",
    "authorization_header = {\"Authorization\": \"Bearer {}\".format(access_token)}"
   ]
  },
  {
   "cell_type": "code",
   "execution_count": 4,
   "metadata": {},
   "outputs": [],
   "source": [
    "SPOTIFY_API_BASE_URL = \"https://api.spotify.com\"\n",
    "API_VERSION = \"v1\"\n",
    "SPOTIFY_API_URL = \"{}/{}\".format(SPOTIFY_API_BASE_URL, API_VERSION)\n",
    "\n",
    "user_profile_api_endpoint = \"{}/me\".format(SPOTIFY_API_URL)\n",
    "user_tracks_endpoint = \"{}/tracks\".format(user_profile_api_endpoint)\n",
    "\n",
    "recently_played_endpoint = \"{}/player/recently-played\".format(user_profile_api_endpoint)\n",
    "top_tracks_endpoint = \"{}/top/tracks\".format(user_profile_api_endpoint)\n",
    "top_artists_endpoint = \"{}/top/artists\".format(user_profile_api_endpoint)"
   ]
  },
  {
   "cell_type": "code",
   "execution_count": 5,
   "metadata": {},
   "outputs": [],
   "source": [
    "def get_recently_played():\n",
    "    limit = 50\n",
    "    response = requests.get(recently_played_endpoint + \"?limit={}\".format(limit), headers=authorization_header)\n",
    "    recently_played = response.json()\n",
    "    \n",
    "    track_names, track_uris, data = featurize_tracks(recently_played['items'], sp, verbose=True)\n",
    "    artist_names, artist_uris, genres = get_song_genres(recently_played['items'], sp, verbose=True)\n",
    "\n",
    "    dates = [track['played_at'] for track in recently_played['items']]\n",
    "\n",
    "    recently_played_data = []\n",
    "\n",
    "    num_tracks = len(recently_played['items'])\n",
    "    for i in range(num_tracks):\n",
    "        track_name = track_names[i]\n",
    "        date_added = dates[i]\n",
    "        track_uri = track_uris[i]\n",
    "        track_features = data['features'][i]\n",
    "        track_genres = genres[i]\n",
    "        track_artists = artist_names[i]\n",
    "        recently_played_data.append({ 'name' : track_name,\n",
    "                                      'uri' : track_uri,\n",
    "                                      'date' : date_added,\n",
    "                                      'genres' : track_genres, \n",
    "                                      'artists' : track_artists,\n",
    "                                    })\n",
    "        for feature, feature_name in zip(track_features, data['feature_names']):\n",
    "            recently_played_data[-1][feature_name] = feature\n",
    "    \n",
    "    return recently_played_data"
   ]
  },
  {
   "cell_type": "code",
   "execution_count": 6,
   "metadata": {},
   "outputs": [
    {
     "name": "stdout",
     "output_type": "stream",
     "text": [
      "{'grant_type': 'client_credentials'}\n",
      "https://accounts.spotify.com/api/token\n",
      "{'access_token': 'BQBkiAIjli9tFepxf1TwzLckVl0D7-rEGDSei5YRsaiGGxjAWJLiXAy0QUGFT2p9iw4hC8iwHL4n_GCwcoA', 'token_type': 'Bearer', 'expires_in': 3600, 'scope': ''}\n",
      "100.0% done\r"
     ]
    },
    {
     "data": {
      "text/plain": [
       "34170"
      ]
     },
     "execution_count": 6,
     "metadata": {},
     "output_type": "execute_result"
    }
   ],
   "source": [
    "recently_played_data = get_recently_played()\n",
    "open(\"user_library/steven/data_recently_played.json\", \"w\").write(json.dumps(recently_played_data, indent=4))"
   ]
  },
  {
   "cell_type": "code",
   "execution_count": 9,
   "metadata": {},
   "outputs": [],
   "source": [
    "def get_top_tracks(time_range):\n",
    "    limit = 50\n",
    "\n",
    "    response = requests.get(top_tracks_endpoint + \"?time_range={}&limit={}\".format(time_range, limit), \n",
    "                            headers=authorization_header)\n",
    "\n",
    "    top_tracks = response.json()\n",
    "    \n",
    "    track_names, track_uris, data = featurize_tracks([{ 'track' : track } for track in top_tracks['items']], sp, verbose=True)\n",
    "    artist_names, artist_uris, genres = get_song_genres([{ 'track' : track } for track in top_tracks['items']], sp, verbose=True)\n",
    "\n",
    "    top_tracks_data = []\n",
    "\n",
    "    num_tracks = len(top_tracks['items'])\n",
    "    for i in range(num_tracks):\n",
    "        track_name = track_names[i]\n",
    "        track_uri = track_uris[i]\n",
    "        track_features = data['features'][i]\n",
    "        track_genres = genres[i]\n",
    "        track_artists = artist_names[i]\n",
    "        top_tracks_data.append({ 'name' : track_name,\n",
    "                                 'uri' : track_uri,\n",
    "                                 'genres' : track_genres, \n",
    "                                 'artists' : track_artists,\n",
    "                               })\n",
    "        for feature, feature_name in zip(track_features, data['feature_names']):\n",
    "            top_tracks_data[-1][feature_name] = feature\n",
    "    \n",
    "    return top_tracks_data"
   ]
  },
  {
   "cell_type": "code",
   "execution_count": 10,
   "metadata": {},
   "outputs": [
    {
     "name": "stdout",
     "output_type": "stream",
     "text": [
      "100.0% done\r"
     ]
    },
    {
     "data": {
      "text/plain": [
       "31782"
      ]
     },
     "execution_count": 10,
     "metadata": {},
     "output_type": "execute_result"
    }
   ],
   "source": [
    "top_tracks_short_data = get_top_tracks(\"short_term\")\n",
    "open(\"user_library/steven/data_top_tracks_short_term.json\", \"w\").write(json.dumps(top_tracks_short_data, indent=4))"
   ]
  },
  {
   "cell_type": "code",
   "execution_count": 11,
   "metadata": {},
   "outputs": [
    {
     "name": "stdout",
     "output_type": "stream",
     "text": [
      "100.0% done\r"
     ]
    },
    {
     "data": {
      "text/plain": [
       "33510"
      ]
     },
     "execution_count": 11,
     "metadata": {},
     "output_type": "execute_result"
    }
   ],
   "source": [
    "top_tracks_medium_data = get_top_tracks(\"medium_term\")\n",
    "open(\"user_library/steven/data_top_tracks_medium_term.json\", \"w\").write(json.dumps(top_tracks_medium_data, indent=4))"
   ]
  },
  {
   "cell_type": "code",
   "execution_count": 12,
   "metadata": {},
   "outputs": [
    {
     "name": "stdout",
     "output_type": "stream",
     "text": [
      "100.0% done\r"
     ]
    },
    {
     "data": {
      "text/plain": [
       "32797"
      ]
     },
     "execution_count": 12,
     "metadata": {},
     "output_type": "execute_result"
    }
   ],
   "source": [
    "top_tracks_long_data = get_top_tracks(\"long_term\")\n",
    "open(\"user_library/steven/data_top_tracks_long_term.json\", \"w\").write(json.dumps(top_tracks_long_data, indent=4))"
   ]
  },
  {
   "cell_type": "code",
   "execution_count": 13,
   "metadata": {},
   "outputs": [],
   "source": [
    "def get_top_artists(time_range):\n",
    "    limit = 50\n",
    "\n",
    "    response = requests.get(top_artists_endpoint + \"?time_range={}&limit={}\".format(time_range, limit), \n",
    "                            headers=authorization_header)\n",
    "\n",
    "    top_artists = response.json()\n",
    "    \n",
    "    names = [artist['name'] for artist in top_artists['items']]\n",
    "    genres = [artist['genres'] for artist in top_artists['items']]\n",
    "    popularities = [artist['popularity'] for artist in top_artists['items']]\n",
    "    artist_uris = [artist['uri'] for artist in top_artists['items']]\n",
    "    \n",
    "    top_artists_data = []\n",
    "\n",
    "    for i in range(len(top_artists['items'])):\n",
    "        top_artists_data.append({ \"name\" : names[i],\n",
    "                                  \"genres\" : genres[i],\n",
    "                                  \"popularity\" : popularities[i],\n",
    "                                  \"uri\" : artist_uris[i]\n",
    "                                })\n",
    "    \n",
    "    return top_artists_data"
   ]
  },
  {
   "cell_type": "code",
   "execution_count": 14,
   "metadata": {},
   "outputs": [
    {
     "data": {
      "text/plain": [
       "18124"
      ]
     },
     "execution_count": 14,
     "metadata": {},
     "output_type": "execute_result"
    }
   ],
   "source": [
    "top_artists_short_data = get_top_artists(\"short_term\")\n",
    "open(\"user_library/steven/data_top_artists_short_term.json\", \"w\").write(json.dumps(top_artists_short_data, indent=4))"
   ]
  },
  {
   "cell_type": "code",
   "execution_count": 15,
   "metadata": {},
   "outputs": [
    {
     "data": {
      "text/plain": [
       "18843"
      ]
     },
     "execution_count": 15,
     "metadata": {},
     "output_type": "execute_result"
    }
   ],
   "source": [
    "top_artists_medium_data = get_top_artists(\"medium_term\")\n",
    "open(\"user_library/steven/data_top_artists_medium_term.json\", \"w\").write(json.dumps(top_artists_medium_data, indent=4))"
   ]
  },
  {
   "cell_type": "code",
   "execution_count": 16,
   "metadata": {},
   "outputs": [
    {
     "data": {
      "text/plain": [
       "16522"
      ]
     },
     "execution_count": 16,
     "metadata": {},
     "output_type": "execute_result"
    }
   ],
   "source": [
    "top_artists_long_data = get_top_artists(\"long_term\")\n",
    "open(\"user_library/steven/data_top_artists_long_term.json\", \"w\").write(json.dumps(top_artists_long_data, indent=4))"
   ]
  }
 ],
 "metadata": {
  "kernelspec": {
   "display_name": "MyPython",
   "language": "python",
   "name": "mypy"
  },
  "language_info": {
   "codemirror_mode": {
    "name": "ipython",
    "version": 3
   },
   "file_extension": ".py",
   "mimetype": "text/x-python",
   "name": "python",
   "nbconvert_exporter": "python",
   "pygments_lexer": "ipython3",
   "version": "3.6.7"
  }
 },
 "nbformat": 4,
 "nbformat_minor": 2
}
